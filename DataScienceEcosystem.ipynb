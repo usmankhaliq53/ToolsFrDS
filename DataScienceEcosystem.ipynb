{
 "cells": [
  {
   "cell_type": "markdown",
   "id": "5ee7a32f-5536-4a90-9114-ef522120613f",
   "metadata": {},
   "source": [
    "# Exercise 2 - Data Science Tools and Ecosystem"
   ]
  },
  {
   "cell_type": "markdown",
   "id": "a90e1fe1-293c-4f91-b73b-2d9a8fad65fb",
   "metadata": {},
   "source": [
    "### Exercise 3 - In this notebook, Data Science Tools and Ecosystem are summarized."
   ]
  },
  {
   "cell_type": "markdown",
   "id": "b4d8d14e-657e-49b8-9e75-31293fc965e0",
   "metadata": {},
   "source": [
    "### Exercise 10 - \n",
    "**Objectives:**\n",
    "\n",
    "- List popular languages for Data Science.\n",
    "- Discuss commonly used libraries for Data Science.\n",
    "- Demonstrate how to create tables in Markdown cells."
   ]
  },
  {
   "cell_type": "markdown",
   "id": "d27ccf79-e30d-4452-a28e-d98cd037dc96",
   "metadata": {
    "jp-MarkdownHeadingCollapsed": true,
    "tags": []
   },
   "source": [
    "#### Exercise 4 - Some of the popular languages that Data Scientists use are:\n",
    "1. Python\n",
    "2. R\n",
    "3. Julia"
   ]
  },
  {
   "cell_type": "markdown",
   "id": "ab035e50-afe3-486e-962b-75d672a7db7d",
   "metadata": {
    "tags": []
   },
   "source": [
    "#### Exercise 5 - Some of the commonly used libraries used by Data Scientists include:\n",
    "1. Numpy\n",
    "2. Pandas\n",
    "3. MatplotLib"
   ]
  },
  {
   "cell_type": "markdown",
   "id": "82abd2de-3cb3-4dac-97b0-df612abce154",
   "metadata": {},
   "source": [
    "#### Exercise 6- \n",
    "|Data Science Tools |\n",
    "|-------------------|\n",
    "|Jupyter Notebook               |\n",
    "|    RStudio         |\n",
    "|Apache Zeppelin|"
   ]
  },
  {
   "cell_type": "markdown",
   "id": "9ee13c4a-dcac-4849-a06c-aa14ba41dfc5",
   "metadata": {},
   "source": [
    "### Exercise 7 - Below are a few examples of evaluating arithmetic expressions in Python"
   ]
  },
  {
   "cell_type": "code",
   "execution_count": 8,
   "id": "73534b9c-6713-4e78-b601-841a4ae0a05c",
   "metadata": {
    "tags": []
   },
   "outputs": [
    {
     "name": "stdout",
     "output_type": "stream",
     "text": [
      "17\n"
     ]
    }
   ],
   "source": [
    "# Exercise 8 - This a simple arithmetic expression to mutiply then add integers.\n",
    "result = (3 * 4) + 5\n",
    "print(result)"
   ]
  },
  {
   "cell_type": "code",
   "execution_count": 9,
   "id": "60464180-f93a-4716-9877-0321b59ee16c",
   "metadata": {
    "tags": []
   },
   "outputs": [
    {
     "name": "stdout",
     "output_type": "stream",
     "text": [
      "3.3333333333333335\n"
     ]
    }
   ],
   "source": [
    "# Exercise 9 - This will convert 200 minutes to hours by diving by 60\n",
    "minutes = 200\n",
    "hours = minutes/60\n",
    "print(hours)"
   ]
  },
  {
   "cell_type": "markdown",
   "id": "d870c5cf-ae7a-475a-80d0-d8088f1599e9",
   "metadata": {},
   "source": [
    "##### Exercise 11 -\n",
    "## Author\n",
    "Usman Khaliq"
   ]
  },
  {
   "cell_type": "code",
   "execution_count": null,
   "id": "ddaff140-ffb8-4958-915f-70c72064f924",
   "metadata": {},
   "outputs": [],
   "source": []
  }
 ],
 "metadata": {
  "kernelspec": {
   "display_name": "Python",
   "language": "python",
   "name": "conda-env-python-py"
  },
  "language_info": {
   "codemirror_mode": {
    "name": "ipython",
    "version": 3
   },
   "file_extension": ".py",
   "mimetype": "text/x-python",
   "name": "python",
   "nbconvert_exporter": "python",
   "pygments_lexer": "ipython3",
   "version": "3.7.12"
  }
 },
 "nbformat": 4,
 "nbformat_minor": 5
}
